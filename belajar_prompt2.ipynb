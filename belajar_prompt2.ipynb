{
 "cells": [
  {
   "cell_type": "code",
   "execution_count": 1,
   "metadata": {},
   "outputs": [
    {
     "name": "stdout",
     "output_type": "stream",
     "text": [
      "Requirement already satisfied: openai in d:\\sangat penting\\kegiatan luar\\certification dt sense\\dt_sense_gen ai\\belajar_prompt\\.venv\\lib\\site-packages (1.52.0)\n",
      "Requirement already satisfied: python-dotenv in d:\\sangat penting\\kegiatan luar\\certification dt sense\\dt_sense_gen ai\\belajar_prompt\\.venv\\lib\\site-packages (1.0.1)\n",
      "Requirement already satisfied: ollama in d:\\sangat penting\\kegiatan luar\\certification dt sense\\dt_sense_gen ai\\belajar_prompt\\.venv\\lib\\site-packages (0.3.3)\n",
      "Requirement already satisfied: anyio<5,>=3.5.0 in d:\\sangat penting\\kegiatan luar\\certification dt sense\\dt_sense_gen ai\\belajar_prompt\\.venv\\lib\\site-packages (from openai) (4.6.2.post1)\n",
      "Requirement already satisfied: distro<2,>=1.7.0 in d:\\sangat penting\\kegiatan luar\\certification dt sense\\dt_sense_gen ai\\belajar_prompt\\.venv\\lib\\site-packages (from openai) (1.9.0)\n",
      "Requirement already satisfied: httpx<1,>=0.23.0 in d:\\sangat penting\\kegiatan luar\\certification dt sense\\dt_sense_gen ai\\belajar_prompt\\.venv\\lib\\site-packages (from openai) (0.27.2)\n",
      "Requirement already satisfied: jiter<1,>=0.4.0 in d:\\sangat penting\\kegiatan luar\\certification dt sense\\dt_sense_gen ai\\belajar_prompt\\.venv\\lib\\site-packages (from openai) (0.6.1)\n",
      "Requirement already satisfied: pydantic<3,>=1.9.0 in d:\\sangat penting\\kegiatan luar\\certification dt sense\\dt_sense_gen ai\\belajar_prompt\\.venv\\lib\\site-packages (from openai) (2.9.2)\n",
      "Requirement already satisfied: sniffio in d:\\sangat penting\\kegiatan luar\\certification dt sense\\dt_sense_gen ai\\belajar_prompt\\.venv\\lib\\site-packages (from openai) (1.3.1)\n",
      "Requirement already satisfied: tqdm>4 in d:\\sangat penting\\kegiatan luar\\certification dt sense\\dt_sense_gen ai\\belajar_prompt\\.venv\\lib\\site-packages (from openai) (4.66.5)\n",
      "Requirement already satisfied: typing-extensions<5,>=4.11 in d:\\sangat penting\\kegiatan luar\\certification dt sense\\dt_sense_gen ai\\belajar_prompt\\.venv\\lib\\site-packages (from openai) (4.12.2)\n",
      "Requirement already satisfied: idna>=2.8 in d:\\sangat penting\\kegiatan luar\\certification dt sense\\dt_sense_gen ai\\belajar_prompt\\.venv\\lib\\site-packages (from anyio<5,>=3.5.0->openai) (3.10)\n",
      "Requirement already satisfied: certifi in d:\\sangat penting\\kegiatan luar\\certification dt sense\\dt_sense_gen ai\\belajar_prompt\\.venv\\lib\\site-packages (from httpx<1,>=0.23.0->openai) (2024.8.30)\n",
      "Requirement already satisfied: httpcore==1.* in d:\\sangat penting\\kegiatan luar\\certification dt sense\\dt_sense_gen ai\\belajar_prompt\\.venv\\lib\\site-packages (from httpx<1,>=0.23.0->openai) (1.0.6)\n",
      "Requirement already satisfied: h11<0.15,>=0.13 in d:\\sangat penting\\kegiatan luar\\certification dt sense\\dt_sense_gen ai\\belajar_prompt\\.venv\\lib\\site-packages (from httpcore==1.*->httpx<1,>=0.23.0->openai) (0.14.0)\n",
      "Requirement already satisfied: annotated-types>=0.6.0 in d:\\sangat penting\\kegiatan luar\\certification dt sense\\dt_sense_gen ai\\belajar_prompt\\.venv\\lib\\site-packages (from pydantic<3,>=1.9.0->openai) (0.7.0)\n",
      "Requirement already satisfied: pydantic-core==2.23.4 in d:\\sangat penting\\kegiatan luar\\certification dt sense\\dt_sense_gen ai\\belajar_prompt\\.venv\\lib\\site-packages (from pydantic<3,>=1.9.0->openai) (2.23.4)\n",
      "Requirement already satisfied: colorama in d:\\sangat penting\\kegiatan luar\\certification dt sense\\dt_sense_gen ai\\belajar_prompt\\.venv\\lib\\site-packages (from tqdm>4->openai) (0.4.6)\n"
     ]
    }
   ],
   "source": [
    "!pip install openai python-dotenv ollama"
   ]
  },
  {
   "cell_type": "code",
   "execution_count": 2,
   "metadata": {},
   "outputs": [
    {
     "name": "stderr",
     "output_type": "stream",
     "text": [
      "d:\\Sangat Penting\\Kegiatan Luar\\Certification DT Sense\\DT_Sense_Gen AI\\BELAJAR_PROMPT\\.venv\\Lib\\site-packages\\tqdm\\auto.py:21: TqdmWarning: IProgress not found. Please update jupyter and ipywidgets. See https://ipywidgets.readthedocs.io/en/stable/user_install.html\n",
      "  from .autonotebook import tqdm as notebook_tqdm\n"
     ]
    }
   ],
   "source": [
    "import openai\n",
    "import ollama\n",
    "import google.generativeai as genai"
   ]
  },
  {
   "cell_type": "code",
   "execution_count": 3,
   "metadata": {},
   "outputs": [
    {
     "data": {
      "text/plain": [
       "True"
      ]
     },
     "execution_count": 3,
     "metadata": {},
     "output_type": "execute_result"
    }
   ],
   "source": [
    "from dotenv import load_dotenv\n",
    "import os\n",
    "# Load environment variables from a .env file\n",
    "load_dotenv()"
   ]
  },
  {
   "cell_type": "code",
   "execution_count": 4,
   "metadata": {},
   "outputs": [
    {
     "name": "stdout",
     "output_type": "stream",
     "text": [
      "Langit berwarna biru karena adanya beberapa faktor alami yang menyebabkannya. Berikut adalah beberapa penyebab utama mengapa langit terlihat berwarna biru:\n",
      "\n",
      "1. **Scattering cahaya**: Ketika sinar matahari melewatinya, ia memancarkan gelombang biru dan merah. Gelombang biru memiliki panjang gelombang yang lebih pendek daripada gelombang merah. Dalam proses scattering, gelombang biru lebih mudah di-bounce oleh partikel-partikel kecil dalam atmosfer, seperti nitrogen (N2) dan oksigen (O2). Hal ini menyebabkan gelombang biru mencapai mata dengan lebih banyak daripada gelombang merah.\n",
      "2. **Refleksi cahaya**: Ketika sinar matahari bertemu dengan atmosfer, ia juga diserap oleh partikel-partikel kecil yang ada di dalamnya. Bagian yang tidak diserap tersebut kemudian melompat kembali ke luar sebagai refleksi, dan dari sana, gelombang biru mencapai mata kita.\n",
      "3. **Ukuran partikel**: Ukuran partikel-partikel kecil dalam atmosfer juga memainkan peran penting dalam menghasilkan warna biru langit. Partikel-partikel yang lebih kecil akan menyebabkan scattering cahaya menjadi lebih intens, sehingga gelombang biru dapat lebih mudah dicapai mata kita.\n",
      "4. **Ketinggian atmosfer**: Warna langit juga dipengaruhi oleh ketinggian atmosfer. Pada ketinggian yang lebih tinggi, tekanan udara yang rendah akan menyebabkan partikel-partikel kecil dalam atmosfer menjadi semakin terpisah, sehingga scattering cahaya menjadi lebih intens dan warna langit menjadi lebih biru.\n",
      "\n",
      "Dengan demikian, kombinasi dari scattering cahaya, refleksi cahaya, ukuran partikel, dan ketinggian atmosfer membuat langit kita berwarna biru yang indah.\n"
     ]
    }
   ],
   "source": [
    "from ollama import chat\n",
    "\n",
    "messages = [\n",
    "  {\n",
    "    'role': 'user',\n",
    "    'content': 'Mengapa langit berwarna biru?',\n",
    "  },\n",
    "]\n",
    "\n",
    "response = chat(model='llama3.2:latest', messages=messages)\n",
    "print(response['message']['content'])"
   ]
  },
  {
   "cell_type": "code",
   "execution_count": 5,
   "metadata": {},
   "outputs": [
    {
     "name": "stdout",
     "output_type": "stream",
     "text": [
      "Tokyo merupakan ibukota Jepang.\n"
     ]
    }
   ],
   "source": [
    "import ollama\n",
    "\n",
    "# Menggunakan one-shot prompting\n",
    "response = ollama.chat(\n",
    "    model='llama3.2:latest',\n",
    "    messages=[\n",
    "        {'role': 'user', 'content': 'Contoh: Apa ibukota Prancis?'},\n",
    "        {'role': 'assistant', 'content': 'Ibukota Prancis adalah Paris.'},\n",
    "        {'role': 'user', 'content': 'Apa ibukota Jepang?'}\n",
    "    ]\n",
    ")\n",
    "\n",
    "print(response['message']['content'])"
   ]
  },
  {
   "cell_type": "code",
   "execution_count": 6,
   "metadata": {},
   "outputs": [
    {
     "name": "stdout",
     "output_type": "stream",
     "text": [
      "Ibukota Italia adalah Roma, tetapi sekarang telah menjadi ibukota resmi Rome Capital City dan tidak lagi merupakan ibu kota Italia bersama dengan Turin (dengan nama Turin-Piedmont).\n"
     ]
    }
   ],
   "source": [
    "\"\"\"\n",
    "Menggunakan few-shot prompting\n",
    "\"\"\"\n",
    "response = ollama.chat(\n",
    "    model='llama3.2:latest',\n",
    "    messages=[\n",
    "        {'role': 'user', 'content': 'Contoh: Apa ibukota Prancis?'},\n",
    "        {'role': 'assistant', 'content': 'Ibukota Prancis adalah Paris.'},\n",
    "        {'role': 'user', 'content': 'Contoh: Apa ibukota Jerman?'},\n",
    "        {'role': 'assistant', 'content': 'Ibukota Jerman adalah Berlin.'},\n",
    "        {'role': 'user', 'content': 'Apa ibukota Italia?'}\n",
    "    ]\n",
    ")\n",
    "\n",
    "print(response['message']['content'])"
   ]
  },
  {
   "cell_type": "code",
   "execution_count": 7,
   "metadata": {},
   "outputs": [
    {
     "name": "stdout",
     "output_type": "stream",
     "text": [
      "Mari kita hitung:\n",
      "\n",
      "1. 15 x 10 = 150\n",
      "2. 15 x 5 = 75\n",
      "3. Totalnya adalah: 150 + 75 = 225\n",
      "\n",
      "Jadi, hasil dari 15 x 15 adalah 225.\n"
     ]
    }
   ],
   "source": [
    "response = ollama.chat(\n",
    "    model='llama3.2:latest',\n",
    "    messages=[\n",
    "        {'role': 'user', 'content': 'Berapa hasil 12 x 12?'},\n",
    "        {'role': 'assistant', 'content': 'Mari kita hitung langkah demi langkah: \\\n",
    "         1. 12 x 10 = 120, 2. 12 x 2 = 24, jadi totalnya adalah 144.'},\n",
    "        {'role': 'user', 'content': 'Berapakah hasil 15 x 15?'},\n",
    "    ]\n",
    ")\n",
    "\n",
    "print(response['message']['content'])"
   ]
  },
  {
   "cell_type": "code",
   "execution_count": 8,
   "metadata": {},
   "outputs": [],
   "source": [
    "prompt_template = \"\"\"\n",
    "Ringkas teks yang dibatasi oleh tiga tanda hubung\\\n",
    "menjadi satu kalimat.\n",
    "---{text}---\n",
    "\"\"\""
   ]
  },
  {
   "cell_type": "code",
   "execution_count": 9,
   "metadata": {},
   "outputs": [],
   "source": [
    "input = \"Saya suka makan bakso. Saya juga suka makan nasi goreng. Saya juga suka makan sate.\""
   ]
  },
  {
   "cell_type": "code",
   "execution_count": 10,
   "metadata": {},
   "outputs": [],
   "source": [
    "response = ollama.chat(\n",
    "    model='llama3.2:latest',\n",
    "    messages=[\n",
    "        {'role': 'user', 'content':  prompt_template.format(text=input) if len(input) > 0 else prompt_template }\n",
    "    ],\n",
    ")"
   ]
  },
  {
   "cell_type": "code",
   "execution_count": 11,
   "metadata": {},
   "outputs": [
    {
     "data": {
      "text/plain": [
       "{'model': 'llama3.2:latest',\n",
       " 'created_at': '2024-10-26T10:03:36.954585Z',\n",
       " 'message': {'role': 'assistant',\n",
       "  'content': 'Saya suka makan bakso, nasi goreng, dan sate.'},\n",
       " 'done_reason': 'stop',\n",
       " 'done': True,\n",
       " 'total_duration': 2848660700,\n",
       " 'load_duration': 22051700,\n",
       " 'prompt_eval_count': 79,\n",
       " 'prompt_eval_duration': 1357627000,\n",
       " 'eval_count': 19,\n",
       " 'eval_duration': 1467779000}"
      ]
     },
     "execution_count": 11,
     "metadata": {},
     "output_type": "execute_result"
    }
   ],
   "source": [
    "response"
   ]
  },
  {
   "cell_type": "code",
   "execution_count": 12,
   "metadata": {},
   "outputs": [],
   "source": [
    "contoh_ulasan = \"\"\"\n",
    "Judul Ulasan: Produk Berkualitas, Sesuai Ekspektasi\n",
    "\n",
    "Rating: ★★★★☆\n",
    "\n",
    "Ulasan:\n",
    "Halo DTSense, saya baru saja membeli body-lotion dari Tokolapak.com, dan secara keseluruhan, saya sangat puas dengan pembelian ini. Produk ini hadir dengan kualitas yang sangat baik dan sesuai dengan deskripsi yang tertera di halaman produk.\n",
    "\n",
    "Kelebihan:\n",
    "\n",
    "Kualitas bahan: Materialnya kokoh dan terlihat tahan lama, persis seperti yang saya harapkan.\n",
    "Fungsi: Semua fitur produk berfungsi dengan baik. Sangat mudah digunakan, dan saya tidak mengalami masalah selama penggunaannya.\n",
    "Pengiriman: Pengiriman cepat dan barang dikemas dengan baik, tidak ada kerusakan selama pengiriman.\n",
    "Harga: Harga cukup terjangkau untuk kualitas yang diberikan, jadi menurut saya ini adalah nilai yang baik.\n",
    "Kekurangan:\n",
    "\n",
    "Warna: Warna produk sedikit berbeda dari yang ditampilkan di foto. Dalam deskripsi tertulis warna biru tua, tapi yang saya terima sedikit lebih terang.\n",
    "Petunjuk penggunaan: Manualnya kurang jelas, terutama untuk orang yang baru pertama kali menggunakan produk ini.\n",
    "Secara keseluruhan, saya puas dengan pembelian ini dan akan mempertimbangkan untuk membeli produk lain dari toko yang sama di masa mendatang. Rekomendasi untuk mereka yang mencari produk dengan kualitas baik dan harga yang wajar.\n",
    "\n",
    "\"\"\"\n"
   ]
  },
  {
   "cell_type": "code",
   "execution_count": 13,
   "metadata": {},
   "outputs": [],
   "source": [
    "my_reduced_prompt = \"\"\"\n",
    "Tugas Anda adalah membuat ringkasan singkat tentang ulasan produk dari situs e-commerce.\n",
    "\n",
    "Ringkas ulasan di bawah ini, yang dibatasi oleh tanda kutip tiga, dalam maksimal 30 kata.\n",
    "\n",
    "Ulasan: \\\"\\\"\\\"{text}\\\"\\\"\\\"\n",
    "\"\"\""
   ]
  },
  {
   "cell_type": "code",
   "execution_count": 14,
   "metadata": {},
   "outputs": [],
   "source": [
    "response = ollama.chat(\n",
    "    model='llama3.2:latest',\n",
    "    messages=[\n",
    "        {'role': 'assistant', 'content':  my_reduced_prompt.format(text=contoh_ulasan) if len(input) > 0 else prompt_template }\n",
    "    ],\n",
    ")"
   ]
  },
  {
   "cell_type": "code",
   "execution_count": 15,
   "metadata": {},
   "outputs": [
    {
     "data": {
      "text/plain": [
       "{'model': 'llama3.2:latest',\n",
       " 'created_at': '2024-10-26T10:03:50.248073Z',\n",
       " 'message': {'role': 'assistant',\n",
       "  'content': 'Dengan kata rumpun, saya berharap Tokolapak dapat memperbaiki beberapa hal kekurangan di atas agar produk ini semakin terjamin dan sesuai dengan harapan konsumen.'},\n",
       " 'done_reason': 'stop',\n",
       " 'done': True,\n",
       " 'total_duration': 13266695100,\n",
       " 'load_duration': 22415300,\n",
       " 'prompt_eval_count': 427,\n",
       " 'prompt_eval_duration': 9568478000,\n",
       " 'eval_count': 45,\n",
       " 'eval_duration': 3674582000}"
      ]
     },
     "execution_count": 15,
     "metadata": {},
     "output_type": "execute_result"
    }
   ],
   "source": [
    "response"
   ]
  },
  {
   "cell_type": "code",
   "execution_count": 16,
   "metadata": {},
   "outputs": [],
   "source": [
    "my_translation_prompt = \"\"\"\n",
    "Terjemahkan teks bahasa Indonesia berikut ke bahasa Jerman: \\\n",
    "\\\"\\\"\\\"Hai, saya ingin memesan bakso\\\"\\\"\\\"\n",
    "\"\"\""
   ]
  },
  {
   "cell_type": "code",
   "execution_count": 17,
   "metadata": {},
   "outputs": [],
   "source": [
    "response = ollama.chat(\n",
    "    model='llama3.2:latest',\n",
    "    messages=[\n",
    "        {'role': 'user', 'content': my_translation_prompt }\n",
    "    ],\n",
    ")"
   ]
  },
  {
   "cell_type": "code",
   "execution_count": 18,
   "metadata": {},
   "outputs": [
    {
     "data": {
      "text/plain": [
       "'Terjemahan dari \"Hai, saya ingin memesan bakso\" dalam bahasa Jerman adalah:\\n\\n\"\"\"Hallo, ich möchte Bakso bestellen.\"\"\"\\n\\nAtau juga bisa ditulis sebagai:\\n\\n\"\"\"Hallo, ich will Bakso bestellen.\"\"\"\\n\\nPerlu diingat bahwa \"bakso\" sendiri sudah memiliki arti yang mirip dengan \"bakso\" dalam bahasa Indonesia, karena keduanya merujuk pada hidangan makanan yang sama.'"
      ]
     },
     "execution_count": 18,
     "metadata": {},
     "output_type": "execute_result"
    }
   ],
   "source": [
    "response['message']['content']"
   ]
  }
 ],
 "metadata": {
  "kernelspec": {
   "display_name": ".venv",
   "language": "python",
   "name": "python3"
  },
  "language_info": {
   "codemirror_mode": {
    "name": "ipython",
    "version": 3
   },
   "file_extension": ".py",
   "mimetype": "text/x-python",
   "name": "python",
   "nbconvert_exporter": "python",
   "pygments_lexer": "ipython3",
   "version": "3.13.0"
  }
 },
 "nbformat": 4,
 "nbformat_minor": 2
}
